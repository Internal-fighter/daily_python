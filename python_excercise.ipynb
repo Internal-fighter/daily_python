{
  "nbformat": 4,
  "nbformat_minor": 0,
  "metadata": {
    "colab": {
      "provenance": [],
      "authorship_tag": "ABX9TyP/KUPxaDVTsDKx2F8ZymLL",
      "include_colab_link": true
    },
    "kernelspec": {
      "name": "python3",
      "display_name": "Python 3"
    },
    "language_info": {
      "name": "python"
    }
  },
  "cells": [
    {
      "cell_type": "markdown",
      "metadata": {
        "id": "view-in-github",
        "colab_type": "text"
      },
      "source": [
        "<a href=\"https://colab.research.google.com/github/Internal-fighter/daily_python/blob/main/python_excercise.ipynb\" target=\"_parent\"><img src=\"https://colab.research.google.com/assets/colab-badge.svg\" alt=\"Open In Colab\"/></a>"
      ]
    },
    {
      "cell_type": "code",
      "execution_count": null,
      "metadata": {
        "id": "rf1IlAOZDSrm"
      },
      "outputs": [],
      "source": []
    },
    {
      "cell_type": "markdown",
      "source": [
        "Question 1:\n",
        "\n",
        "Write a program which will find all such numbers which are divisible by 7 but are not a multiple of 5,between 2000 and 3200 (both included).\n",
        "\n",
        "The numbers obtained should be printed in a comma-separated sequence on a single line."
      ],
      "metadata": {
        "id": "2LeCuwmaDWqR"
      }
    },
    {
      "cell_type": "code",
      "source": [
        "nums=[]\n",
        "for i in range(2000,3200+1):\n",
        "  if i%7==0 and i%35!=0:\n",
        "    nums.append(str(i))\n",
        "print(','.join(nums))"
      ],
      "metadata": {
        "colab": {
          "base_uri": "https://localhost:8080/"
        },
        "id": "DKATV8HBDwLu",
        "outputId": "0b9a1915-1677-4f7f-fe35-957034513ffd"
      },
      "execution_count": 3,
      "outputs": [
        {
          "output_type": "stream",
          "name": "stdout",
          "text": [
            "2002,2009,2016,2023,2037,2044,2051,2058,2072,2079,2086,2093,2107,2114,2121,2128,2142,2149,2156,2163,2177,2184,2191,2198,2212,2219,2226,2233,2247,2254,2261,2268,2282,2289,2296,2303,2317,2324,2331,2338,2352,2359,2366,2373,2387,2394,2401,2408,2422,2429,2436,2443,2457,2464,2471,2478,2492,2499,2506,2513,2527,2534,2541,2548,2562,2569,2576,2583,2597,2604,2611,2618,2632,2639,2646,2653,2667,2674,2681,2688,2702,2709,2716,2723,2737,2744,2751,2758,2772,2779,2786,2793,2807,2814,2821,2828,2842,2849,2856,2863,2877,2884,2891,2898,2912,2919,2926,2933,2947,2954,2961,2968,2982,2989,2996,3003,3017,3024,3031,3038,3052,3059,3066,3073,3087,3094,3101,3108,3122,3129,3136,3143,3157,3164,3171,3178,3192,3199\n"
          ]
        }
      ]
    },
    {
      "cell_type": "markdown",
      "source": [
        "Question 2\n",
        "Level 1\n",
        "\n",
        "Question:\n",
        "\n",
        "Write a program which can compute the factorial of a given numbers.\n",
        "The results should be printed in a comma-separated sequence on a single line.\n",
        "\n",
        "Suppose the following input is supplied to the program:\n",
        "8\n",
        "\n",
        "Then, the output should be:\n",
        "40320"
      ],
      "metadata": {
        "id": "359CiaeaFpI5"
      }
    },
    {
      "cell_type": "code",
      "source": [
        "class FactorialCalculator:\n",
        "    def __init__(self, num):\n",
        "        self.num = num\n",
        "\n",
        "    def calculate_factorial(self):\n",
        "        if self.num < 0:\n",
        "            return \"Factorial is not defined for negative numbers\"\n",
        "        elif self.num == 0 or self.num == 1:\n",
        "            return 1\n",
        "        else:\n",
        "            fact = 1\n",
        "            for i in range(2, self.num + 1):\n",
        "                fact *= i\n",
        "            return fact\n",
        "\n",
        "# Example usage:\n",
        "num_input = 8\n",
        "factorial_calculator = FactorialCalculator(num_input)\n",
        "result = factorial_calculator.calculate_factorial()\n",
        "print(f'The factorial of {num_input} is {result}')\n"
      ],
      "metadata": {
        "colab": {
          "base_uri": "https://localhost:8080/"
        },
        "id": "QdK3Fn7tEMp0",
        "outputId": "1f2e4c63-3a9b-40fd-fe6a-134e28908538"
      },
      "execution_count": 4,
      "outputs": [
        {
          "output_type": "stream",
          "name": "stdout",
          "text": [
            "The factorial of 8 is 40320\n"
          ]
        }
      ]
    },
    {
      "cell_type": "markdown",
      "source": [
        "Question 3\n",
        "Level 1\n",
        "\n",
        "Question:\n",
        "\n",
        "With a given integral number n, write a program to generate a dictionary that contains (i, i*i) such that is an integral number between 1 and n (both included). and then the program should print the dictionary.\n",
        "\n",
        "Suppose the following input is supplied to the program:\n",
        "\n",
        "8\n",
        "\n",
        "Then, the output should be:\n",
        "\n",
        "{1: 1, 2: 4, 3: 9, 4: 16, 5: 25, 6: 36, 7: 49, 8: 64}"
      ],
      "metadata": {
        "id": "DKZMbl_sLu-x"
      }
    },
    {
      "cell_type": "code",
      "source": [
        "class DictSquareGenerator:\n",
        "    def __init__(self, num):\n",
        "        self.num = num\n",
        "\n",
        "    def generate_dict_square(self):\n",
        "        result_dict = {}\n",
        "        for i in range(1, self.num + 1):\n",
        "            result_dict[i] = i * i\n",
        "        return result_dict\n",
        "\n",
        "# Example usage:\n",
        "num_input = 8\n",
        "dict_square_generator = DictSquareGenerator(num_input)\n",
        "result_dictionary = dict_square_generator.generate_dict_square()\n",
        "print(result_dictionary)\n",
        "\n",
        "\n"
      ],
      "metadata": {
        "colab": {
          "base_uri": "https://localhost:8080/"
        },
        "id": "U1S7CNbkLmHQ",
        "outputId": "8eef940e-ae76-48c4-f84a-3c92a98576d4"
      },
      "execution_count": 6,
      "outputs": [
        {
          "output_type": "stream",
          "name": "stdout",
          "text": [
            "{1: 1, 2: 4, 3: 9, 4: 16, 5: 25, 6: 36, 7: 49, 8: 64}\n"
          ]
        }
      ]
    },
    {
      "cell_type": "markdown",
      "source": [
        "Question 4\n",
        "Level 1\n",
        "\n",
        "Question:\n",
        "\n",
        "Write a program which accepts a sequence of comma-separated numbers from console and generate a list and a tuple which contains every number.\n",
        "\n",
        "Suppose the following input is supplied to the program:\n",
        "34,67,55,33,12,98\n",
        "\n",
        "Then, the output should be:\n",
        "\n",
        "['34', '67', '55', '33', '12', '98']\n",
        "\n",
        "('34', '67', '55', '33', '12', '98')\n"
      ],
      "metadata": {
        "id": "gsaOhvpZOMg9"
      }
    },
    {
      "cell_type": "code",
      "source": [
        "class ListTupleGenerator:\n",
        "    def __init__(self, no_of_input):\n",
        "        self.no_of_input = no_of_input\n",
        "\n",
        "    def generate_list_tuple(self):\n",
        "        input_sequence = input(\"Enter a sequence of comma-separated numbers: \")\n",
        "        num_list = input_sequence.split(',')\n",
        "        num_tuple = tuple(num_list)\n",
        "        return num_list, num_tuple\n",
        "\n",
        "# Example usage:\n",
        "num_input = 6  # You can replace this with the desired number of inputs\n",
        "list_tuple_generator = ListTupleGenerator(num_input)\n",
        "result_list, result_tuple = list_tuple_generator.generate_list_tuple()\n",
        "print(result_list)\n",
        "print(result_tuple)\n"
      ],
      "metadata": {
        "id": "M0TzvPBgOE3p"
      },
      "execution_count": null,
      "outputs": []
    }
  ]
}